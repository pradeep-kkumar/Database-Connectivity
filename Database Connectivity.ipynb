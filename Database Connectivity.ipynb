{
 "cells": [
  {
   "cell_type": "markdown",
   "id": "5a7ccedc",
   "metadata": {},
   "source": [
    "# Step-1: Connectivity with Database"
   ]
  },
  {
   "cell_type": "code",
   "execution_count": 3,
   "id": "83f37dfd",
   "metadata": {},
   "outputs": [
    {
     "name": "stdout",
     "output_type": "stream",
     "text": [
      "11\n"
     ]
    }
   ],
   "source": [
    "import mysql.connector\n",
    "\n",
    "mydb = mysql.connector.connect(\n",
    "host = 'localhost',\n",
    "user = 'root',\n",
    "password = 'Punit@sql')\n",
    "\n",
    "#print(mydb.connection_id)"
   ]
  },
  {
   "cell_type": "markdown",
   "id": "2b1951c2",
   "metadata": {},
   "source": [
    "# Step-2: How to Create Database "
   ]
  },
  {
   "cell_type": "code",
   "execution_count": null,
   "id": "418ecca6",
   "metadata": {},
   "outputs": [],
   "source": [
    "import mysql.connector\n",
    "\n",
    "mydb = mysql.connector.connect(\n",
    "host = 'localhost',\n",
    "user = 'root',\n",
    "password = 'Punit@sql')"
   ]
  },
  {
   "cell_type": "code",
   "execution_count": 4,
   "id": "6c5d7955",
   "metadata": {},
   "outputs": [],
   "source": [
    "cur = mydb.cursor()\n",
    "\n",
    "cur.execute(\"CREATE DATABASE my_database\")"
   ]
  },
  {
   "cell_type": "markdown",
   "id": "3240ff44",
   "metadata": {},
   "source": [
    "# Step-3: How to create a Table"
   ]
  },
  {
   "cell_type": "code",
   "execution_count": 1,
   "id": "fd43e672",
   "metadata": {},
   "outputs": [],
   "source": [
    "import mysql.connector\n",
    "\n",
    "mydb = mysql.connector.connect(\n",
    "    host = 'localhost',\n",
    "    user = 'root',\n",
    "    password = 'Punit@sql',\n",
    "    database = \"my_database\"\n",
    ")"
   ]
  },
  {
   "cell_type": "code",
   "execution_count": 2,
   "id": "ad7ab069",
   "metadata": {},
   "outputs": [],
   "source": [
    "cur = mydb.cursor()\n",
    "\n",
    "s = \"CREATE TABLE customer (C_id int, Name char(40), Phone varchar(15), Email varchar(30), Address varchar(40))\"\n",
    "cur.execute(s)"
   ]
  },
  {
   "cell_type": "markdown",
   "id": "fa24c4ab",
   "metadata": {},
   "source": [
    "# Step-4: How to insert values in Table"
   ]
  },
  {
   "cell_type": "code",
   "execution_count": 2,
   "id": "4dbd963b",
   "metadata": {},
   "outputs": [],
   "source": [
    "import mysql.connector\n",
    "\n",
    "mydb = mysql.connector.connect(\n",
    "    host = 'localhost',\n",
    "    user = 'root',\n",
    "    password = 'Punit@sql',\n",
    "    database = \"my_database\"\n",
    ")"
   ]
  },
  {
   "cell_type": "code",
   "execution_count": 7,
   "id": "29f07db7",
   "metadata": {},
   "outputs": [],
   "source": [
    "cur = mydb.cursor()\n",
    "\n",
    "s = \"INSERT INTO customer (C_id, Name, Phone, Email, Address) VALUES (%s, %s, %s, %s, %s)\"\n",
    "\n",
    "c1 = (104, \"Mommy\", \"8767899909\", \"mon1@gmail.com\", \"Delhi\")\n",
    "\n",
    "cur.execute(s, c1)\n",
    "mydb.commit()\n"
   ]
  },
  {
   "cell_type": "code",
   "execution_count": 9,
   "id": "a77576b6",
   "metadata": {},
   "outputs": [],
   "source": [
    "cur = mydb.cursor()\n",
    "\n",
    "s = \"INSERT INTO customer (C_id, Name, Phone, Email, Address) VALUES (%s, %s, %s, %s, %s)\"\n",
    "\n",
    "cus1 = [\n",
    "    (105, \"Ram\", \"8767899098\", \"ram@gmail.com\", \"Ghaziabad\"),\n",
    "    (106, \"Rahul\", \"7654323456\", \"rahul@gmail.com\", \"Gurgaon\")\n",
    "]\n",
    "\n",
    "cur.executemany(s, cus1) #excutemany \n",
    "mydb.commit()\n"
   ]
  },
  {
   "cell_type": "code",
   "execution_count": 3,
   "id": "c0dfbf14",
   "metadata": {},
   "outputs": [
    {
     "name": "stdout",
     "output_type": "stream",
     "text": [
      "Enter the customer id = 102\n",
      "Enter the customer name = Jonny\n",
      "Enter the customer phone = 8767878909\n",
      "Enter the customer email = jon2@gmail.com\n",
      "Enter the customer address = Noida\n"
     ]
    }
   ],
   "source": [
    "cur = mydb.cursor()\n",
    "\n",
    "s = \"INSERT INTO customer (C_id, Name, Phone, Email, Address) VALUES (%s, %s, %s, %s, %s)\"\n",
    "\n",
    "cid = int(input(\"Enter the customer id = \"))\n",
    "name = input(\"Enter the customer name = \")\n",
    "phone = input(\"Enter the customer phone = \")\n",
    "email = input(\"Enter the customer email = \")\n",
    "address = input(\"Enter the customer address = \")\n",
    "\n",
    "c1 = (cid, name, phone, email, address)\n",
    "\n",
    "cur.execute(s, c1)\n",
    "mydb.commit()\n"
   ]
  },
  {
   "cell_type": "markdown",
   "id": "c385fb97",
   "metadata": {},
   "source": [
    "# Step-5: How to fetch data"
   ]
  },
  {
   "cell_type": "code",
   "execution_count": 1,
   "id": "cb4535c7",
   "metadata": {},
   "outputs": [],
   "source": [
    "import mysql.connector\n",
    "\n",
    "mydb = mysql.connector.connect(\n",
    "    host = 'localhost',\n",
    "    user = 'root',\n",
    "    password = 'Punit@sql',\n",
    "    database = \"my_database\"\n",
    ")"
   ]
  },
  {
   "cell_type": "code",
   "execution_count": 3,
   "id": "f45f6046",
   "metadata": {},
   "outputs": [
    {
     "name": "stdout",
     "output_type": "stream",
     "text": [
      "(101, 'Ramesh', '7678909890', 'ramesh1@gmail.com', 'Noida')\n",
      "(102, 'Jonny', '8767878909', 'jon2@gmail.com', 'Noida')\n",
      "(103, 'Tommy', '8767898909', 'tom1@gmail.com', 'Delhi')\n",
      "(104, 'Mommy', '8767899909', 'mon1@gmail.com', 'Delhi')\n",
      "(105, 'Ram', '8767899098', 'ram@gmail.com', 'Ghaziabad')\n",
      "(106, 'Rahul', '7654323456', 'rahul@gmail.com', 'Gurgaon')\n"
     ]
    }
   ],
   "source": [
    "cur = mydb.cursor()\n",
    "\n",
    "s = \"SELECT * FROM customer\"\n",
    "\n",
    "cur.execute(s)\n",
    "\n",
    "data = cur.fetchall()\n",
    "\n",
    "for val in data:\n",
    "    print(val)"
   ]
  },
  {
   "cell_type": "markdown",
   "id": "b12b7aa1",
   "metadata": {},
   "source": [
    "# Step-6: How to Update"
   ]
  },
  {
   "cell_type": "code",
   "execution_count": 1,
   "id": "7944c5bd",
   "metadata": {},
   "outputs": [],
   "source": [
    "import mysql.connector\n",
    "\n",
    "mydb = mysql.connector.connect(\n",
    "    host = 'localhost',\n",
    "    user = 'root',\n",
    "    password = 'Punit@sql',\n",
    "    database = \"my_database\"\n",
    ")"
   ]
  },
  {
   "cell_type": "code",
   "execution_count": 2,
   "id": "2fd9eaf5",
   "metadata": {},
   "outputs": [],
   "source": [
    "cur = mydb.cursor()\n",
    "\n",
    "s = \"UPDATE customer SET Name = 'Honny Singh' WHERE C_id = 102\"\n",
    "\n",
    "cur.execute(s)\n",
    "mydb.commit()"
   ]
  },
  {
   "cell_type": "code",
   "execution_count": 3,
   "id": "dea5d621",
   "metadata": {},
   "outputs": [
    {
     "name": "stdout",
     "output_type": "stream",
     "text": [
      "(101, 'Ramesh', '7678909890', 'ramesh1@gmail.com', 'Noida')\n",
      "(102, 'Honny Singh', '8767878909', 'jon2@gmail.com', 'Noida')\n",
      "(103, 'Tommy', '8767898909', 'tom1@gmail.com', 'Delhi')\n",
      "(104, 'Mommy', '8767899909', 'mon1@gmail.com', 'Delhi')\n",
      "(105, 'Ram', '8767899098', 'ram@gmail.com', 'Ghaziabad')\n",
      "(106, 'Rahul', '7654323456', 'rahul@gmail.com', 'Gurgaon')\n"
     ]
    }
   ],
   "source": [
    "s = \"SELECT * FROM customer\"\n",
    "\n",
    "cur.execute(s)\n",
    "\n",
    "data = cur.fetchall()\n",
    "\n",
    "for val in data:\n",
    "    print(val)"
   ]
  },
  {
   "cell_type": "markdown",
   "id": "c750cc4b",
   "metadata": {},
   "source": [
    "# Step-7: How to Delete record"
   ]
  },
  {
   "cell_type": "code",
   "execution_count": 1,
   "id": "894bd3d9",
   "metadata": {},
   "outputs": [],
   "source": [
    "import mysql.connector\n",
    "\n",
    "mydb = mysql.connector.connect(\n",
    "    host = 'localhost',\n",
    "    user = 'root',\n",
    "    password = 'Punit@sql',\n",
    "    database = \"my_database\"\n",
    ")"
   ]
  },
  {
   "cell_type": "code",
   "execution_count": 2,
   "id": "34cfc4ec",
   "metadata": {},
   "outputs": [],
   "source": [
    "cur = mydb.cursor()\n",
    "\n",
    "s = \"DELETE FROM customer WHERE Address = 'Delhi'\"\n",
    "\n",
    "cur.execute(s)\n",
    "mydb.commit()"
   ]
  },
  {
   "cell_type": "code",
   "execution_count": 3,
   "id": "ea0dcf38",
   "metadata": {},
   "outputs": [
    {
     "name": "stdout",
     "output_type": "stream",
     "text": [
      "(101, 'Ramesh', '7678909890', 'ramesh1@gmail.com', 'Noida')\n",
      "(102, 'Honny Singh', '8767878909', 'jon2@gmail.com', 'Noida')\n",
      "(105, 'Ram', '8767899098', 'ram@gmail.com', 'Ghaziabad')\n",
      "(106, 'Rahul', '7654323456', 'rahul@gmail.com', 'Gurgaon')\n"
     ]
    }
   ],
   "source": [
    "s = \"SELECT * FROM customer\"\n",
    "\n",
    "cur.execute(s)\n",
    "\n",
    "data = cur.fetchall()\n",
    "\n",
    "for val in data:\n",
    "    print(val)"
   ]
  },
  {
   "cell_type": "code",
   "execution_count": null,
   "id": "8d0e6a41",
   "metadata": {},
   "outputs": [],
   "source": []
  }
 ],
 "metadata": {
  "kernelspec": {
   "display_name": "Python 3 (ipykernel)",
   "language": "python",
   "name": "python3"
  },
  "language_info": {
   "codemirror_mode": {
    "name": "ipython",
    "version": 3
   },
   "file_extension": ".py",
   "mimetype": "text/x-python",
   "name": "python",
   "nbconvert_exporter": "python",
   "pygments_lexer": "ipython3",
   "version": "3.10.9"
  }
 },
 "nbformat": 4,
 "nbformat_minor": 5
}
